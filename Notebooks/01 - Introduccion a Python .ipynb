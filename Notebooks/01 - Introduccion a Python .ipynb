{
 "cells": [
  {
   "cell_type": "code",
   "execution_count": 13,
   "id": "ca69483d",
   "metadata": {},
   "outputs": [
    {
     "data": {
      "text/plain": [
       "'acceder'"
      ]
     },
     "execution_count": 13,
     "metadata": {},
     "output_type": "execute_result"
    }
   ],
   "source": [
    "#Crear una lista\n",
    "numeros = [1,2,3,4,5,6,7,8,\"Juan\",\"Luisa\",[1.2,1.3,1.4,[32,33,34,\"acceder\"]]]\n",
    "\n",
    "#Acceder a los elemntos de una lista (lo hacemos de forma posicional)\n",
    "numeros[-1][-1][-1]"
   ]
  },
  {
   "cell_type": "code",
   "execution_count": 23,
   "id": "5ca0ffde",
   "metadata": {},
   "outputs": [
    {
     "data": {
      "text/plain": [
       "6"
      ]
     },
     "execution_count": 23,
     "metadata": {},
     "output_type": "execute_result"
    }
   ],
   "source": [
    "#Crear una matriz\n",
    "\n",
    "matrix = [[1,2,3],[4,5,6],[7,8,9]]\n",
    "matrix[1][-1]"
   ]
  },
  {
   "cell_type": "code",
   "execution_count": 32,
   "id": "ec6e861c",
   "metadata": {},
   "outputs": [],
   "source": [
    "#Crear un diccionarios\n",
    "\n",
    "diccionario_informacion = {\"Nombre\": [\"Pedro\",\"Juan\",\"Jhon\",\"Pablo\"],\n",
    "                   \"Telefono\": [123,456,789],\n",
    "                   \"Carrera\": [\"Economía\",\"Fisica\",\"Administración\",\"Matematicas\"]\n",
    "                   }"
   ]
  },
  {
   "cell_type": "code",
   "execution_count": 33,
   "id": "ffd3e1a2",
   "metadata": {},
   "outputs": [
    {
     "data": {
      "text/plain": [
       "'Jhon'"
      ]
     },
     "execution_count": 33,
     "metadata": {},
     "output_type": "execute_result"
    }
   ],
   "source": [
    "diccionario_informacion[\"Nombre\"][2]"
   ]
  }
 ],
 "metadata": {
  "kernelspec": {
   "display_name": "Python 3",
   "language": "python",
   "name": "python3"
  },
  "language_info": {
   "codemirror_mode": {
    "name": "ipython",
    "version": 3
   },
   "file_extension": ".py",
   "mimetype": "text/x-python",
   "name": "python",
   "nbconvert_exporter": "python",
   "pygments_lexer": "ipython3",
   "version": "3.12.1"
  }
 },
 "nbformat": 4,
 "nbformat_minor": 5
}
