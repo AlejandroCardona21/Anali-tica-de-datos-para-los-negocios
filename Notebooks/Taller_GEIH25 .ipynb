{
 "cells": [
  {
   "cell_type": "code",
   "execution_count": 50,
   "id": "77f00a97",
   "metadata": {},
   "outputs": [],
   "source": [
    "import pandas as pd\n"
   ]
  },
  {
   "cell_type": "code",
   "execution_count": null,
   "id": "5735ac78",
   "metadata": {},
   "outputs": [],
   "source": [
    "url_cgsse = \"https://github.com/niconomist98/DataAnalyticsUQ/raw/refs/heads/main/Datos/GEIH2025/cgsse.CSV\"\n",
    "url_ocupados  = \"https://github.com/niconomist98/DataAnalyticsUQ/raw/refs/heads/main/Datos/GEIH2025/Ocupados.CSV\"  \n",
    "url_ft = \"https://github.com/niconomist98/DataAnalyticsUQ/raw/refs/heads/main/Datos/GEIH2025/Fuerza%20de%20trabajo.CSV\"\n",
    "url_desocupados = \"https://github.com/niconomist98/DataAnalyticsUQ/raw/refs/heads/main/Datos/GEIH2025/No%20ocupados.CSV\"\n",
    "\n",
    "#CGSSE - Caracteristicas generales, seguridad social en salud y educación (1)\n",
    "df_cgsse = pd.read_csv(url_cgsse, encoding = \"latin-1\", sep = \";\",\n",
    "                      low_memory = False )\n",
    "\n",
    "                      #Ocupado (3)\n",
    "                      df_ocupados = pd.read_csv(url_ocupados, encoding = \"latin-1\", sep = \";\",\n",
    "                                                low_memory = False)\n",
    "\n",
    "                                                #Fuerza de trabajo (2)                                                                                 \n",
    "                                                df_ft = pd.read_csv(url_ft, encoding = \"latin-1\", sep = \";\",\n",
    "                                                                    low_memory = False)\n",
    "\n",
    "                                                                    #No ocupados (3)\n",
    "                                                                    df_desocupados = pd.read_csv(url_desocupados, encoding = \"latin-1\", sep = \";\",\n",
    "                                                                                                 low_memory = False )\n",
    "                                                                                                 "
   ]
  },
  {
   "cell_type": "markdown",
   "id": "4c6169e7",
   "metadata": {},
   "source": [
    "# Población total (1.1)"
   ]
  },
  {
   "cell_type": "code",
   "execution_count": 52,
   "id": "33e77282",
   "metadata": {},
   "outputs": [
    {
     "name": "stdout",
     "output_type": "stream",
     "text": [
      "Población total: 52045001\n"
     ]
    }
   ],
   "source": [
    "PT = int(df_cgsse[\"FEX_C18\"].sum())\n",
    "print(f\"Población total: {PT}\")"
   ]
  },
  {
   "cell_type": "markdown",
   "id": "01b485a5",
   "metadata": {},
   "source": [
    "# Población en edad de trabajar (1.2)"
   ]
  },
  {
   "cell_type": "code",
   "execution_count": 53,
   "id": "59505947",
   "metadata": {},
   "outputs": [
    {
     "name": "stdout",
     "output_type": "stream",
     "text": [
      "Poblacion en edad de trabajar: 40653416\n"
     ]
    }
   ],
   "source": [
    "PET = int(df_cgsse[df_cgsse[\"P6040\"]>=15][\"FEX_C18\"].sum())\n",
    "print(f\"Poblacion en edad de trabajar: {PET}\")"
   ]
  },
  {
   "cell_type": "markdown",
   "id": "35c8e811",
   "metadata": {},
   "source": [
    "# Población que no está en edad de trabajar (1.3)"
   ]
  },
  {
   "cell_type": "code",
   "execution_count": 54,
   "id": "c0361018",
   "metadata": {},
   "outputs": [
    {
     "name": "stdout",
     "output_type": "stream",
     "text": [
      "Poblacion que no está en edad de trabajar: 11391585\n"
     ]
    }
   ],
   "source": [
    "PNET = int(df_cgsse[df_cgsse[\"P6040\"]<15][\"FEX_C18\"].sum())\n",
    "print(f\"Poblacion que no está en edad de trabajar: {PNET}\")"
   ]
  },
  {
   "cell_type": "markdown",
   "id": "66404a94",
   "metadata": {},
   "source": [
    "# Calculo de la PEA y la PEI (1.4 y 1.5)"
   ]
  },
  {
   "cell_type": "code",
   "execution_count": 55,
   "id": "473e681e",
   "metadata": {},
   "outputs": [
    {
     "name": "stdout",
     "output_type": "stream",
     "text": [
      "Población Economicamente Activa: 25974846\n",
      "Población Economicamente Inactiva: 14678569\n"
     ]
    }
   ],
   "source": [
    "PEA = int(df_ft[df_ft[\"FT\"]==1][\"FEX_C18\"].sum())\n",
    "print(f\"Población Economicamente Activa: {PEA}\")\n",
    "\n",
    "PEI = int(df_ft[df_ft[\"FFT\"]==1][\"FEX_C18\"].sum())\n",
    "print(f\"Población Economicamente Inactiva: {PEI}\")"
   ]
  },
  {
   "cell_type": "markdown",
   "id": "a1afe94d",
   "metadata": {},
   "source": [
    "# Tasa de ocupación (1.6)"
   ]
  },
  {
   "cell_type": "code",
   "execution_count": 56,
   "id": "eaa92022",
   "metadata": {},
   "outputs": [
    {
     "name": "stdout",
     "output_type": "stream",
     "text": [
      "Poblacion ocupada: 23752952\n",
      "Población en edad de trabajar: 40653416\n",
      "Tasa de ocupación: 58.43%\n"
     ]
    }
   ],
   "source": [
    "O = int(df_ocupados[\"FEX_C18\"].sum())\n",
    "print(f\"Poblacion ocupada: {O}\")\n",
    "\n",
    "PET = int(df_ft[\"FEX_C18\"].sum()) \n",
    "print(f\"Población en edad de trabajar: {PET}\")\n",
    "\n",
    "TO = (O/PET)\n",
    "print(f\"Tasa de ocupación: {TO:.2%}\")"
   ]
  },
  {
   "cell_type": "markdown",
   "id": "ae0770e0",
   "metadata": {},
   "source": [
    "# Tasa de desempleo (1.7)"
   ]
  },
  {
   "cell_type": "code",
   "execution_count": 57,
   "id": "e69d822e",
   "metadata": {},
   "outputs": [
    {
     "name": "stdout",
     "output_type": "stream",
     "text": [
      "Población no ocupada: 2221893.563312005\n",
      "Tasa de desempleo: 8.55%\n"
     ]
    }
   ],
   "source": [
    "NO = df_desocupados[df_desocupados[\"DSI\"]==1][\"FEX_C18\"].sum()\n",
    "print(f\"Población no ocupada: {NO}\")\n",
    "\n",
    "TD = (NO/PEA)\n",
    "print(f\"Tasa de desempleo: {TD:.2%}\")"
   ]
  },
  {
   "cell_type": "markdown",
   "id": "a3c50f70",
   "metadata": {},
   "source": [
    "# Calcular tasa de desempelo en hombres y mujeres del Quindío\n",
    "\n",
    "# Tasas para el Quindío"
   ]
  },
  {
   "cell_type": "code",
   "execution_count": 58,
   "id": "95283713",
   "metadata": {},
   "outputs": [],
   "source": [
    "# Primero, anexar la p3271 a la tabla de desempleados\n",
    "df_desocupados = pd.merge(df_desocupados, df_cgsse[[\"DIRECTORIO\",\"SECUENCIA_P\",\"ORDEN\",\"P3271\",\"P6040\"]],on=[\"DIRECTORIO\", \"SECUENCIA_P\", \"ORDEN\"],how=\"left\")\n",
    "df_ft = pd.merge(df_ft, df_cgsse[[\"DIRECTORIO\",\"SECUENCIA_P\",\"ORDEN\",\"P3271\",\"P6040\"]],on=[\"DIRECTORIO\", \"SECUENCIA_P\", \"ORDEN\"],how=\"left\")"
   ]
  },
  {
   "cell_type": "markdown",
   "id": "ef41a62a",
   "metadata": {},
   "source": [
    "# HOMBRES"
   ]
  },
  {
   "cell_type": "code",
   "execution_count": 59,
   "id": "4a0b61c9",
   "metadata": {},
   "outputs": [
    {
     "name": "stdout",
     "output_type": "stream",
     "text": [
      "Hombres Desemepleados en el Quindío: 17869.520960767004\n",
      "Población Economicamente Activda de hombres en el Quindío : 174625.87195169798\n",
      "Tasa de Desempleo de hombres en el Quindío : 10.233031773040919\n"
     ]
    }
   ],
   "source": [
    "HDQ = df_desocupados[(df_desocupados[\"DSI\"]==1) & (df_desocupados[\"DPTO\"]==63) & (df_desocupados[\"P3271\"]==1)][\"FEX_C18\"].sum()\n",
    "print(f\"Hombres Desemepleados en el Quindío: {HDQ}\")\n",
    "\n",
    "PEAHQ = df_ft[(df_ft[\"FT\"]==1) & (df_ft[\"DPTO\"]==63) & (df_ft[\"P3271\"]==1)][\"FEX_C18\"].sum()\n",
    "print(f\"Población Economicamente Activda de hombres en el Quindío : {PEAHQ}\")\n",
    "\n",
    "TDHQ = HDQ/PEAHQ\n",
    "print(f\"Tasa de Desempleo de hombres en el Quindío : {TDHQ*100}\")"
   ]
  },
  {
   "cell_type": "markdown",
   "id": "0cf29b6d",
   "metadata": {},
   "source": [
    "# MUJERES"
   ]
  },
  {
   "cell_type": "code",
   "execution_count": 60,
   "id": "278eed24",
   "metadata": {},
   "outputs": [
    {
     "name": "stdout",
     "output_type": "stream",
     "text": [
      "Mujeres Desemepleados en el Quindío: 10618.534945967001\n",
      "Población Economicamente Activda de mujeres en el Quindío : 116885.879263648\n",
      "Tasa de Desempleo de mujeres en el Quindío : 9.084531863781265\n"
     ]
    }
   ],
   "source": [
    "MDQ = df_desocupados[(df_desocupados[\"DSI\"]==1) & (df_desocupados[\"DPTO\"]==63) & (df_desocupados[\"P3271\"]==2)][\"FEX_C18\"].sum()\n",
    "print(f\"Mujeres Desemepleados en el Quindío: {MDQ}\")\n",
    "\n",
    "PEAMQ = df_ft[(df_ft[\"FT\"]==1) & (df_ft[\"DPTO\"]==63) & (df_ft[\"P3271\"]==2)][\"FEX_C18\"].sum()\n",
    "print(f\"Población Economicamente Activda de mujeres en el Quindío : {PEAMQ}\")\n",
    "\n",
    "TDMQ = MDQ/PEAMQ\n",
    "print(f\"Tasa de Desempleo de mujeres en el Quindío : {TDMQ*100}\")"
   ]
  },
  {
   "cell_type": "markdown",
   "id": "7195d048",
   "metadata": {},
   "source": [
    "# Tasas para Risaralda"
   ]
  },
  {
   "cell_type": "markdown",
   "id": "e64192dc",
   "metadata": {},
   "source": [
    "# HOMBRES"
   ]
  },
  {
   "cell_type": "code",
   "execution_count": 61,
   "id": "37b144c7",
   "metadata": {},
   "outputs": [
    {
     "name": "stdout",
     "output_type": "stream",
     "text": [
      "Hombres Desemepleados en el Risaralda: 18000.60370715\n",
      "Población Economicamente Activda de hombres en Risaralda : 296342.328368219\n",
      "Tasa de Desempleo de hombres en el Risaralda : 6.074260064793518\n"
     ]
    }
   ],
   "source": [
    "HDR = df_desocupados[(df_desocupados[\"DSI\"]==1) & (df_desocupados[\"DPTO\"]==66) & (df_desocupados[\"P3271\"]==1)][\"FEX_C18\"].sum()\n",
    "print(f\"Hombres Desemepleados en el Risaralda: {HDR}\")\n",
    "\n",
    "PEAHR = df_ft[(df_ft[\"FT\"]==1) & (df_ft[\"DPTO\"]==66) & (df_ft[\"P3271\"]==1)][\"FEX_C18\"].sum()\n",
    "print(f\"Población Economicamente Activda de hombres en Risaralda : {PEAHR}\")\n",
    "\n",
    "TDHR = HDR/PEAHR\n",
    "print(f\"Tasa de Desempleo de hombres en el Risaralda : {TDHR*100}\")"
   ]
  },
  {
   "cell_type": "markdown",
   "id": "da9a15ff",
   "metadata": {},
   "source": [
    "# MUJERES"
   ]
  },
  {
   "cell_type": "code",
   "execution_count": 62,
   "id": "edc1225e",
   "metadata": {},
   "outputs": [
    {
     "name": "stdout",
     "output_type": "stream",
     "text": [
      "Mujeres Desemepleados en Risaralda: 21676.799766712\n",
      "Población Economicamente Activda de mujeres en Risaralda : 203157.903399127\n",
      "Tasa de Desempleo de mujeres en Risaralda : 10.669926891362644\n"
     ]
    }
   ],
   "source": [
    "MDR = df_desocupados[(df_desocupados[\"DSI\"]==1) & (df_desocupados[\"DPTO\"]==66) & (df_desocupados[\"P3271\"]==2)][\"FEX_C18\"].sum()\n",
    "print(f\"Mujeres Desemepleados en Risaralda: {MDR}\")\n",
    "\n",
    "PEAMR = df_ft[(df_ft[\"FT\"]==1) & (df_ft[\"DPTO\"]==66) & (df_ft[\"P3271\"]==2)][\"FEX_C18\"].sum()\n",
    "print(f\"Población Economicamente Activda de mujeres en Risaralda : {PEAMR}\")\n",
    "\n",
    "TDMR = MDR/PEAMR\n",
    "print(f\"Tasa de Desempleo de mujeres en Risaralda : {TDMR*100}\")"
   ]
  },
  {
   "cell_type": "markdown",
   "id": "e967305f",
   "metadata": {},
   "source": [
    "# Tasas para Caldas"
   ]
  },
  {
   "cell_type": "markdown",
   "id": "7b4e5062",
   "metadata": {},
   "source": [
    "# HOMBRES"
   ]
  },
  {
   "cell_type": "code",
   "execution_count": 63,
   "id": "9c85ccc3",
   "metadata": {},
   "outputs": [
    {
     "name": "stdout",
     "output_type": "stream",
     "text": [
      "Hombres Desemepleados en el Risaralda: 18226.160047418998\n",
      "Población Economicamente Activda de hombres en Risaralda : 326447.467769983\n",
      "Tasa de Desempleo de hombres en el Risaralda : 5.5831831601957065\n"
     ]
    }
   ],
   "source": [
    "HDC = df_desocupados[(df_desocupados[\"DSI\"]==1) & (df_desocupados[\"DPTO\"]==17) & (df_desocupados[\"P3271\"]==1)][\"FEX_C18\"].sum()\n",
    "print(f\"Hombres Desemepleados en el Risaralda: {HDC}\")\n",
    "\n",
    "PEAHC = df_ft[(df_ft[\"FT\"]==1) & (df_ft[\"DPTO\"]==17) & (df_ft[\"P3271\"]==1)][\"FEX_C18\"].sum()\n",
    "print(f\"Población Economicamente Activda de hombres en Risaralda : {PEAHC}\")\n",
    "\n",
    "TDHC = HDC/PEAHC\n",
    "print(f\"Tasa de Desempleo de hombres en el Risaralda : {TDHC*100}\")"
   ]
  },
  {
   "cell_type": "markdown",
   "id": "5dadd9b8",
   "metadata": {},
   "source": [
    "# MUJERES"
   ]
  },
  {
   "cell_type": "code",
   "execution_count": 64,
   "id": "8990ee0d",
   "metadata": {},
   "outputs": [
    {
     "name": "stdout",
     "output_type": "stream",
     "text": [
      "Mujeres Desemepleados en Caldas: 17214.491449226003\n",
      "Población Economicamente Activda de mujeres en Caldas : 224206.533775\n",
      "Tasa de Desempleo de mujeres en Caldas : 7.677961547053494\n"
     ]
    }
   ],
   "source": [
    "MDC = df_desocupados[(df_desocupados[\"DSI\"]==1) & (df_desocupados[\"DPTO\"]==17) & (df_desocupados[\"P3271\"]==2)][\"FEX_C18\"].sum()\n",
    "print(f\"Mujeres Desemepleados en Caldas: {MDC}\")\n",
    "\n",
    "PEAMC = df_ft[(df_ft[\"FT\"]==1) & (df_ft[\"DPTO\"]==17) & (df_ft[\"P3271\"]==2)][\"FEX_C18\"].sum()\n",
    "print(f\"Población Economicamente Activda de mujeres en Caldas : {PEAMC}\")\n",
    "\n",
    "TDMC = MDC/PEAMC\n",
    "print(f\"Tasa de Desempleo de mujeres en Caldas : {TDMC*100}\")"
   ]
  },
  {
   "cell_type": "markdown",
   "id": "c048bdb2",
   "metadata": {},
   "source": [
    "# Calculo de tasa de desempleo por segmento de edad en el Quindío (3)"
   ]
  },
  {
   "cell_type": "markdown",
   "id": "36816c64",
   "metadata": {},
   "source": [
    "# Segmento de 18 a 24 años de edad"
   ]
  },
  {
   "cell_type": "code",
   "execution_count": 65,
   "id": "387c217b",
   "metadata": {},
   "outputs": [
    {
     "name": "stdout",
     "output_type": "stream",
     "text": [
      "Personas entre 18 y 24 años desempleadas en el Quindío : 3819.2724449800003\n",
      "Población Economicamente Activa en el Quindiío entre los 18 y 24 años de edad : 29912.663758397\n",
      "Tasa de Desempleo de personas en el Quindío entre 18 y 24 años : 12.768078683423386%\n"
     ]
    }
   ],
   "source": [
    "\n",
    "# Calcular cantidad de personas desempleadas entre los 18 - 24\n",
    "D1824 = df_desocupados[(df_desocupados[\"DSI\"]==1) & (df_desocupados[\"P6040\"]>=18) & (df_desocupados[\"P6040\"]<=24) & (df_desocupados[\"DPTO\"]==63)][\"FEX_C18\"].sum()\n",
    "print(f\"Personas entre 18 y 24 años desempleadas en el Quindío : {D1824}\")\n",
    "\n",
    "# Calcular cantidad de personas en la PEA entre los 18 y 24 en el Quindío\n",
    "PEA1824 = df_ft[(df_ft[\"FT\"]==1) & (df_ft[\"P6040\"]>=18) & (df_ft[\"P6040\"]<=24) & (df_ft[\"DPTO\"]==63)][\"FEX_C18\"].sum()\n",
    "print(f\"Población Economicamente Activa en el Quindiío entre los 18 y 24 años de edad : {PEA1824}\")\n",
    "\n",
    "# Calcular la tasa de desempleo en personas entre los 18 y 24 en el Quindío\n",
    "TD1824 = D1824/PEA1824\n",
    "print(f\"Tasa de Desempleo de personas en el Quindío entre 18 y 24 años : {TD1824*100}%\")"
   ]
  },
  {
   "cell_type": "markdown",
   "id": "d9f1c6a5",
   "metadata": {},
   "source": [
    "# Segmento de 24 a 30 años de edad"
   ]
  },
  {
   "cell_type": "code",
   "execution_count": 66,
   "id": "17b38d3f",
   "metadata": {},
   "outputs": [
    {
     "name": "stdout",
     "output_type": "stream",
     "text": [
      "Personas entre 24 y 30 años desempleadas en el Quindío : 7008.068900358\n",
      "Población Economicamente Activa en el Quindiío entre los 24 y 30 años de edad : 51117.425383347\n",
      "Tasa de Desempleo de personas en el Quindío entre 24 y 30 años : 13.709745449427672%\n"
     ]
    }
   ],
   "source": [
    "\n",
    "D2430 = df_desocupados[(df_desocupados[\"DSI\"]==1) & (df_desocupados[\"P6040\"]>=24) & (df_desocupados[\"P6040\"]<=30) & (df_desocupados[\"DPTO\"]==63)][\"FEX_C18\"].sum()\n",
    "print(f\"Personas entre 24 y 30 años desempleadas en el Quindío : {D2430}\")\n",
    "\n",
    "PEA2430 = df_ft[(df_ft[\"FT\"]==1) & (df_ft[\"P6040\"]>=24) & (df_ft[\"P6040\"]<=30) & (df_ft[\"DPTO\"]==63)][\"FEX_C18\"].sum()\n",
    "print(f\"Población Economicamente Activa en el Quindiío entre los 24 y 30 años de edad : {PEA2430}\")\n",
    "\n",
    "TD2430 = D2430/PEA2430\n",
    "print(f\"Tasa de Desempleo de personas en el Quindío entre 24 y 30 años : {TD2430*100}%\")"
   ]
  },
  {
   "cell_type": "markdown",
   "id": "13f54e05",
   "metadata": {},
   "source": [
    "# Segmento de 30 a 40 años de edad"
   ]
  },
  {
   "cell_type": "code",
   "execution_count": 80,
   "id": "0b33c0b6",
   "metadata": {},
   "outputs": [
    {
     "name": "stdout",
     "output_type": "stream",
     "text": [
      "Personas entre 30 y 40 años desempleadas en el Quindío : 7015.512022579001\n",
      "Población Economicamente Activa en el Quindiío entre los 30 y 40 años de edad : 72731.96687714598\n",
      "Tasa de Desempleo de personas en el Quindío entre 30 y 40 años : 9.645706453159914%\n"
     ]
    }
   ],
   "source": [
    "\n",
    "D3040 = df_desocupados[(df_desocupados[\"DSI\"]==1) & (df_desocupados[\"P6040\"]>=30) & (df_desocupados[\"P6040\"]<=40) & (df_desocupados[\"DPTO\"]==63)][\"FEX_C18\"].sum()\n",
    "print(f\"Personas entre 30 y 40 años desempleadas en el Quindío : {D3040}\")\n",
    "\n",
    "PEA3040 = df_ft[(df_ft[\"FT\"]==1) & (df_ft[\"P6040\"]>=30) & (df_ft[\"P6040\"]<=40) & (df_ft[\"DPTO\"]==63)][\"FEX_C18\"].sum()\n",
    "print(f\"Población Economicamente Activa en el Quindiío entre los 30 y 40 años de edad : {PEA3040}\")\n",
    "\n",
    "TD3040 = D3040/PEA3040\n",
    "print(f\"Tasa de Desempleo de personas en el Quindío entre 30 y 40 años : {TD3040*100}%\")"
   ]
  },
  {
   "cell_type": "markdown",
   "id": "cce465a2",
   "metadata": {},
   "source": [
    "# Segmento de 40 a 50 años de edad"
   ]
  },
  {
   "cell_type": "code",
   "execution_count": 76,
   "id": "a3e244ec",
   "metadata": {},
   "outputs": [
    {
     "name": "stdout",
     "output_type": "stream",
     "text": [
      "Personas entre 40 y 50 años desempleadas en el Quindío : 4416.562673204001\n",
      "Población Economicamente Activa en el Quindiío entre los 40 y 50 años de edad : 70586.28939453498\n",
      "Tasa de Desempleo de personas en el Quindío entre 40 y 50 años : 6.256969605695048%\n"
     ]
    }
   ],
   "source": [
    "\n",
    "D4050 = df_desocupados[(df_desocupados[\"DSI\"]==1) & (df_desocupados[\"P6040\"]>=40) & (df_desocupados[\"P6040\"]<=50) & (df_desocupados[\"DPTO\"]==63)][\"FEX_C18\"].sum()\n",
    "print(f\"Personas entre 40 y 50 años desempleadas en el Quindío : {D4050}\")\n",
    "\n",
    "PEA4050 = df_ft[(df_ft[\"FT\"]==1) & (df_ft[\"P6040\"]>=40) & (df_ft[\"P6040\"]<=50) & (df_ft[\"DPTO\"]==63)][\"FEX_C18\"].sum()\n",
    "print(f\"Población Economicamente Activa en el Quindiío entre los 40 y 50 años de edad : {PEA4050}\")\n",
    "\n",
    "TD4050 = D4050/PEA4050\n",
    "print(f\"Tasa de Desempleo de personas en el Quindío entre 40 y 50 años : {TD4050*100}%\")"
   ]
  },
  {
   "cell_type": "markdown",
   "id": "5357f70f",
   "metadata": {},
   "source": [
    "# Segmento de 60 a 150 años de edad"
   ]
  },
  {
   "cell_type": "code",
   "execution_count": 75,
   "id": "ff1a2705",
   "metadata": {},
   "outputs": [
    {
     "name": "stdout",
     "output_type": "stream",
     "text": [
      "Personas entre 60 y 150 años desempleadas en el Quindío : 4297.130465619\n",
      "Población Economicamente Activa en el Quindiío entre los 60 y 150 años de edad : 41690.707895215004\n",
      "Tasa de Desempleo de personas en el Quindío entre 60 y 150 años : 10.307165991086942%\n"
     ]
    }
   ],
   "source": [
    "\n",
    "D60150 = df_desocupados[(df_desocupados[\"DSI\"]==1) & (df_desocupados[\"P6040\"]>=60) & (df_desocupados[\"P6040\"]<=150) & (df_desocupados[\"DPTO\"]==63)][\"FEX_C18\"].sum()\n",
    "print(f\"Personas entre 60 y 150 años desempleadas en el Quindío : {D60150}\")\n",
    "\n",
    "PEA60150 = df_ft[(df_ft[\"FT\"]==1) & (df_ft[\"P6040\"]>=60) & (df_ft[\"P6040\"]<=150) & (df_ft[\"DPTO\"]==63)][\"FEX_C18\"].sum()\n",
    "print(f\"Población Economicamente Activa en el Quindiío entre los 60 y 150 años de edad : {PEA60150}\")\n",
    "\n",
    "TD60150 = D60150/PEA60150\n",
    "print(f\"Tasa de Desempleo de personas en el Quindío entre 60 y 150 años : {TD60150*100}%\")"
   ]
  },
  {
   "cell_type": "markdown",
   "id": "5fa6140a",
   "metadata": {},
   "source": [
    "# Calculo de tasa de desempleo por segmento de edad en Risaralda "
   ]
  },
  {
   "cell_type": "markdown",
   "id": "dd99ac40",
   "metadata": {},
   "source": [
    "# Segmento de 18 a 24 años de edad"
   ]
  },
  {
   "cell_type": "code",
   "execution_count": 74,
   "id": "dace411f",
   "metadata": {},
   "outputs": [
    {
     "name": "stdout",
     "output_type": "stream",
     "text": [
      "Personas entre 18 y 24 años desempleadas en Risaralda : 9385.755003442\n",
      "Población Economicamente Activa Risaralda entre los 18 y 24 años de edad : 63454.922070486005\n",
      "Tasa de Desempleo de personas en Risaralda entre 18 y 24 años : 14.79121665773423%\n"
     ]
    }
   ],
   "source": [
    "\n",
    "DR1824 = df_desocupados[(df_desocupados[\"DSI\"]==1) & (df_desocupados[\"P6040\"]>=18) & (df_desocupados[\"P6040\"]<=24) & (df_desocupados[\"DPTO\"]==66)][\"FEX_C18\"].sum()\n",
    "print(f\"Personas entre 18 y 24 años desempleadas en Risaralda : {DR1824}\")\n",
    "\n",
    "PEAR1824 = df_ft[(df_ft[\"FT\"]==1) & (df_ft[\"P6040\"]>=18) & (df_ft[\"P6040\"]<=24) & (df_ft[\"DPTO\"]==66)][\"FEX_C18\"].sum()\n",
    "print(f\"Población Economicamente Activa Risaralda entre los 18 y 24 años de edad : {PEAR1824}\")\n",
    "\n",
    "TDR1824 = DR1824/PEAR1824\n",
    "print(f\"Tasa de Desempleo de personas en Risaralda entre 18 y 24 años : {TDR1824*100}%\")"
   ]
  },
  {
   "cell_type": "markdown",
   "id": "bcd350b2",
   "metadata": {},
   "source": [
    "# Segmento de 24 a 30 años de edad"
   ]
  },
  {
   "cell_type": "code",
   "execution_count": 73,
   "id": "779285f0",
   "metadata": {},
   "outputs": [
    {
     "name": "stdout",
     "output_type": "stream",
     "text": [
      "Personas entre 24 y 30 años desempleadas en Risaralda : 10504.69809363\n",
      "Población Economicamente Activa en Risaralda entre los 24 y 30 años de edad : 90684.88337600001\n",
      "Tasa de Desempleo de personas en Risaralda entre 24 y 30 años : 11.5837366742538%\n"
     ]
    }
   ],
   "source": [
    "\n",
    "DR2430 = df_desocupados[(df_desocupados[\"DSI\"]==1) & (df_desocupados[\"P6040\"]>=24) & (df_desocupados[\"P6040\"]<=30) & (df_desocupados[\"DPTO\"]==66)][\"FEX_C18\"].sum()\n",
    "print(f\"Personas entre 24 y 30 años desempleadas en Risaralda : {DR2430}\")\n",
    "\n",
    "PEAR2430 = df_ft[(df_ft[\"FT\"]==1) & (df_ft[\"P6040\"]>=24) & (df_ft[\"P6040\"]<=30) & (df_ft[\"DPTO\"]==66)][\"FEX_C18\"].sum()\n",
    "print(f\"Población Economicamente Activa en Risaralda entre los 24 y 30 años de edad : {PEAR2430}\")\n",
    "\n",
    "TDR2430 = DR2430/PEAR2430\n",
    "print(f\"Tasa de Desempleo de personas en Risaralda entre 24 y 30 años : {TDR2430*100}%\")"
   ]
  },
  {
   "cell_type": "markdown",
   "id": "7c0a69dc",
   "metadata": {},
   "source": [
    "# Segmento de 30 a 40 años de edad"
   ]
  },
  {
   "cell_type": "code",
   "execution_count": 81,
   "id": "e5d0eed3",
   "metadata": {},
   "outputs": [
    {
     "name": "stdout",
     "output_type": "stream",
     "text": [
      "Personas entre 30 y 40 años desempleadas en Risaralda : 9922.605545110002\n",
      "Población Economicamente Activa en Risaralda entre los 30 y 40 años de edad : 153899.63411428098\n",
      "Tasa de Desempleo de personas en Risaralda entre 30 y 40 años : 6.447452329705859%\n"
     ]
    }
   ],
   "source": [
    "\n",
    "DR3040 = df_desocupados[(df_desocupados[\"DSI\"]==1) & (df_desocupados[\"P6040\"]>=30) & (df_desocupados[\"P6040\"]<=40) & (df_desocupados[\"DPTO\"]==66)][\"FEX_C18\"].sum()\n",
    "print(f\"Personas entre 30 y 40 años desempleadas en Risaralda : {DR3040}\")\n",
    "\n",
    "PEAR3040 = df_ft[(df_ft[\"FT\"]==1) & (df_ft[\"P6040\"]>=30) & (df_ft[\"P6040\"]<=40) & (df_ft[\"DPTO\"]==66)][\"FEX_C18\"].sum()\n",
    "print(f\"Población Economicamente Activa en Risaralda entre los 30 y 40 años de edad : {PEAR3040}\")\n",
    "\n",
    "TDR3040 = DR3040/PEAR3040\n",
    "print(f\"Tasa de Desempleo de personas en Risaralda entre 30 y 40 años : {TDR3040*100}%\")"
   ]
  },
  {
   "cell_type": "markdown",
   "id": "66459059",
   "metadata": {},
   "source": [
    "# Segmento de 40 a 50 años de edad"
   ]
  },
  {
   "cell_type": "code",
   "execution_count": 71,
   "id": "43d6f99b",
   "metadata": {},
   "outputs": [
    {
     "name": "stdout",
     "output_type": "stream",
     "text": [
      "Personas entre 40 y 50 años desempleadas en el Risaralda : 7584.87602931\n",
      "Población Economicamente Activa en Risaralda entre los 40 y 50 años de edad : 103397.01806552199\n",
      "Tasa de Desempleo de personas en Risaralda entre 40 y 50 años : 7.3356816001245955%\n"
     ]
    }
   ],
   "source": [
    "\n",
    "DR4050 = df_desocupados[(df_desocupados[\"DSI\"]==1) & (df_desocupados[\"P6040\"]>=40) & (df_desocupados[\"P6040\"]<=50) & (df_desocupados[\"DPTO\"]==66)][\"FEX_C18\"].sum()\n",
    "print(f\"Personas entre 40 y 50 años desempleadas en el Risaralda : {DR4050}\")\n",
    "\n",
    "PEAR4050 = df_ft[(df_ft[\"FT\"]==1) & (df_ft[\"P6040\"]>=40) & (df_ft[\"P6040\"]<=50) & (df_ft[\"DPTO\"]==66)][\"FEX_C18\"].sum()\n",
    "print(f\"Población Economicamente Activa en Risaralda entre los 40 y 50 años de edad : {PEAR4050}\")\n",
    "\n",
    "TDR4050 = DR4050/PEAR4050\n",
    "print(f\"Tasa de Desempleo de personas en Risaralda entre 40 y 50 años : {TDR4050*100}%\")"
   ]
  },
  {
   "cell_type": "markdown",
   "id": "df50437e",
   "metadata": {},
   "source": [
    "# Segmento de 60 a 150 años de edad"
   ]
  },
  {
   "cell_type": "code",
   "execution_count": null,
   "id": "f7282698",
   "metadata": {},
   "outputs": [
    {
     "name": "stdout",
     "output_type": "stream",
     "text": [
      "Personas entre 60 y 150 años desempleadas en Risaralda : 4297.130465619\n",
      "Población Economicamente Activa en Risaralda entre los 60 y 150 años de edad : 61031.061322139\n",
      "Tasa de Desempleo de personas en Risaralda entre 60 y 150 años : 3.6398607318240614%\n"
     ]
    }
   ],
   "source": [
    "\n",
    "DR60150 = df_desocupados[(df_desocupados[\"DSI\"]==1) & (df_desocupados[\"P6040\"]>=60) & (df_desocupados[\"P6040\"]<=150) & (df_desocupados[\"DPTO\"]==66)][\"FEX_C18\"].sum()\n",
    "print(f\"Personas entre 60 y 150 años desempleadas en Risaralda : {DR60150}\")\n",
    "\n",
    "PEAR60150 = df_ft[(df_ft[\"FT\"]==1) & (df_ft[\"P6040\"]>=60) & (df_ft[\"P6040\"]<=150) & (df_ft[\"DPTO\"]==66)][\"FEX_C18\"].sum()\n",
    "print(f\"Población Economicamente Activa en Risaralda entre los 60 y 150 años de edad : {PEAR60150}\")\n",
    "\n",
    "TDR60150 = DR60150/PEAR60150\n",
    "print(f\"Tasa de Desempleo de personas en Risaralda entre 60 y 150 años : {TDR60150*100}%\")"
   ]
  },
  {
   "cell_type": "markdown",
   "id": "85533944",
   "metadata": {},
   "source": [
    "# Calculo de tasa de desempleo por segmento de edad en Caldas"
   ]
  },
  {
   "cell_type": "markdown",
   "id": "07f2dbf5",
   "metadata": {},
   "source": [
    "# Segmento de 18 a 24 años de edad"
   ]
  },
  {
   "cell_type": "code",
   "execution_count": 69,
   "id": "8251ff4e",
   "metadata": {},
   "outputs": [
    {
     "name": "stdout",
     "output_type": "stream",
     "text": [
      "Personas entre 18 y 24 años desempleadas en Caldas : 6259.083688154001\n",
      "Población Economicamente Activa Risaralda entre los 18 y 24 años de edad : 66978.254075637\n",
      "Tasa de Desempleo de personas en Caldas entre 18 y 24 años : 9.344949005517167%\n"
     ]
    }
   ],
   "source": [
    "\n",
    "DC1824 = df_desocupados[(df_desocupados[\"DSI\"]==1) & (df_desocupados[\"P6040\"]>=18) & (df_desocupados[\"P6040\"]<=24) & (df_desocupados[\"DPTO\"]==17)][\"FEX_C18\"].sum()\n",
    "print(f\"Personas entre 18 y 24 años desempleadas en Caldas : {DC1824}\")\n",
    "\n",
    "PEAC1824 = df_ft[(df_ft[\"FT\"]==1) & (df_ft[\"P6040\"]>=18) & (df_ft[\"P6040\"]<=24) & (df_ft[\"DPTO\"]==17)][\"FEX_C18\"].sum()\n",
    "print(f\"Población Economicamente Activa Risaralda entre los 18 y 24 años de edad : {PEAC1824}\")\n",
    "\n",
    "TDC1824 = DC1824/PEAC1824\n",
    "print(f\"Tasa de Desempleo de personas en Caldas entre 18 y 24 años : {TDC1824*100}%\")"
   ]
  },
  {
   "cell_type": "markdown",
   "id": "7a6e04f4",
   "metadata": {},
   "source": [
    "# Segmento de 24 a 30 años de edad"
   ]
  },
  {
   "cell_type": "code",
   "execution_count": 68,
   "id": "5e2c17f3",
   "metadata": {},
   "outputs": [
    {
     "name": "stdout",
     "output_type": "stream",
     "text": [
      "Personas entre 24 y 30 años desempleadas en Caldas : 6090.488353998\n",
      "Población Economicamente Activa en Caldas entre los 24 y 30 años de edad : 94541.70353229\n",
      "Tasa de Desempleo de personas en Caldas entre 24 y 30 años : 6.442118267858205%\n"
     ]
    }
   ],
   "source": [
    "DC2430 = df_desocupados[(df_desocupados[\"DSI\"]==1) & (df_desocupados[\"P6040\"]>=24) & (df_desocupados[\"P6040\"]<=30) & (df_desocupados[\"DPTO\"]==17)][\"FEX_C18\"].sum()\n",
    "print(f\"Personas entre 24 y 30 años desempleadas en Caldas : {DC2430}\")\n",
    "\n",
    "PEAC2430 = df_ft[(df_ft[\"FT\"]==1) & (df_ft[\"P6040\"]>=24) & (df_ft[\"P6040\"]<=30) & (df_ft[\"DPTO\"]==17)][\"FEX_C18\"].sum()\n",
    "print(f\"Población Economicamente Activa en Caldas entre los 24 y 30 años de edad : {PEAC2430}\")\n",
    "\n",
    "TDC2430 = DC2430/PEAC2430\n",
    "print(f\"Tasa de Desempleo de personas en Caldas entre 24 y 30 años : {TDC2430*100}%\")"
   ]
  },
  {
   "cell_type": "code",
   "execution_count": 82,
   "id": "271e2d43",
   "metadata": {},
   "outputs": [
    {
     "name": "stdout",
     "output_type": "stream",
     "text": [
      "Personas entre 30 y 40 años desempleadas en Caldas : 7691.5534119310005\n",
      "Población Economicamente Activa en Caldas entre los 30 y 40 años de edad : 134487.41843531598\n",
      "Tasa de Desempleo de personas en Caldas entre 30 y 40 años : 5.719162060970324%\n"
     ]
    }
   ],
   "source": [
    "DC3040 = df_desocupados[(df_desocupados[\"DSI\"]==1) & (df_desocupados[\"P6040\"]>=30) & (df_desocupados[\"P6040\"]<=40) & (df_desocupados[\"DPTO\"]==17)][\"FEX_C18\"].sum()\n",
    "print(f\"Personas entre 30 y 40 años desempleadas en Caldas : {DC3040}\")\n",
    "\n",
    "PEAC3040 = df_ft[(df_ft[\"FT\"]==1) & (df_ft[\"P6040\"]>=30) & (df_ft[\"P6040\"]<=40) & (df_ft[\"DPTO\"]==17)][\"FEX_C18\"].sum()\n",
    "print(f\"Población Economicamente Activa en Caldas entre los 30 y 40 años de edad : {PEAC3040}\")\n",
    "\n",
    "TDC3040 = DC3040/PEAC3040\n",
    "print(f\"Tasa de Desempleo de personas en Caldas entre 30 y 40 años : {TDC3040*100}%\")"
   ]
  },
  {
   "cell_type": "code",
   "execution_count": 83,
   "id": "3c52a389",
   "metadata": {},
   "outputs": [
    {
     "name": "stdout",
     "output_type": "stream",
     "text": [
      "Personas entre 40 y 50 años desempleadas en el Caldas : 6318.584371157001\n",
      "Población Economicamente Activa en Caldas entre los 40 y 50 años de edad : 123334.19349942802\n",
      "Tasa de Desempleo de personas en Caldas entre 40 y 50 años : 5.123140786732679%\n"
     ]
    }
   ],
   "source": [
    "DC4050 = df_desocupados[(df_desocupados[\"DSI\"]==1) & (df_desocupados[\"P6040\"]>=40) & (df_desocupados[\"P6040\"]<=50) & (df_desocupados[\"DPTO\"]==17)][\"FEX_C18\"].sum()\n",
    "print(f\"Personas entre 40 y 50 años desempleadas en el Caldas : {DC4050}\")\n",
    "\n",
    "PEAC4050 = df_ft[(df_ft[\"FT\"]==1) & (df_ft[\"P6040\"]>=40) & (df_ft[\"P6040\"]<=50) & (df_ft[\"DPTO\"]==17)][\"FEX_C18\"].sum()\n",
    "print(f\"Población Economicamente Activa en Caldas entre los 40 y 50 años de edad : {PEAC4050}\")\n",
    "\n",
    "TDC4050 = DC4050/PEAC4050\n",
    "print(f\"Tasa de Desempleo de personas en Caldas entre 40 y 50 años : {TDC4050*100}%\")"
   ]
  },
  {
   "cell_type": "code",
   "execution_count": 84,
   "id": "2fffb6e1",
   "metadata": {},
   "outputs": [
    {
     "name": "stdout",
     "output_type": "stream",
     "text": [
      "Personas entre 60 y 150 años desempleadas en Caldas : 2543.690331052\n",
      "Población Economicamente Activa en Caldas entre los 60 y 150 años de edad : 62637.207145629\n",
      "Tasa de Desempleo de personas en Caldas entre 60 y 150 años : 4.060989381499756%\n"
     ]
    }
   ],
   "source": [
    "\n",
    "DC60150 = df_desocupados[(df_desocupados[\"DSI\"]==1) & (df_desocupados[\"P6040\"]>=60) & (df_desocupados[\"P6040\"]<=150) & (df_desocupados[\"DPTO\"]==17)][\"FEX_C18\"].sum()\n",
    "print(f\"Personas entre 60 y 150 años desempleadas en Caldas : {DC60150}\")\n",
    "\n",
    "PEAC60150 = df_ft[(df_ft[\"FT\"]==1) & (df_ft[\"P6040\"]>=60) & (df_ft[\"P6040\"]<=150) & (df_ft[\"DPTO\"]==17)][\"FEX_C18\"].sum()\n",
    "print(f\"Población Economicamente Activa en Caldas entre los 60 y 150 años de edad : {PEAC60150}\")\n",
    "\n",
    "TDC60150 = DC60150/PEAC60150\n",
    "print(f\"Tasa de Desempleo de personas en Caldas entre 60 y 150 años : {TDC60150*100}%\")"
   ]
  }
 ],
 "metadata": {
  "kernelspec": {
   "display_name": "Python 3",
   "language": "python",
   "name": "python3"
  },
  "language_info": {
   "codemirror_mode": {
    "name": "ipython",
    "version": 3
   },
   "file_extension": ".py",
   "mimetype": "text/x-python",
   "name": "python",
   "nbconvert_exporter": "python",
   "pygments_lexer": "ipython3",
   "version": "3.12.1"
  }
 },
 "nbformat": 4,
 "nbformat_minor": 5
}
