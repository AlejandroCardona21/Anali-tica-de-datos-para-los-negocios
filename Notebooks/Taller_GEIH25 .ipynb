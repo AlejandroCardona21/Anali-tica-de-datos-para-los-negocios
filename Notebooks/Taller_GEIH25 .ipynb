{
 "cells": [
  {
   "cell_type": "code",
   "execution_count": 58,
   "id": "77f00a97",
   "metadata": {},
   "outputs": [],
   "source": [
    "import pandas as pd\n"
   ]
  },
  {
   "cell_type": "code",
   "execution_count": 59,
   "id": "5735ac78",
   "metadata": {},
   "outputs": [],
   "source": [
    "url_cgsse = \"https://github.com/niconomist98/DataAnalyticsUQ/raw/refs/heads/main/Datos/GEIH2025/cgsse.CSV\"\n",
    "url_ocupados  = \"https://github.com/niconomist98/DataAnalyticsUQ/raw/refs/heads/main/Datos/GEIH2025/Ocupados.CSV\"  \n",
    "url_ft = \"https://github.com/niconomist98/DataAnalyticsUQ/raw/refs/heads/main/Datos/GEIH2025/Fuerza%20de%20trabajo.CSV\"\n",
    "url_desocupados = \"https://github.com/niconomist98/DataAnalyticsUQ/raw/refs/heads/main/Datos/GEIH2025/No%20ocupados.CSV\"\n",
    "\n",
    "#CGSSE - Caracteristicas generales, seguridad social en salud y educación (1)\n",
    "df_cgsse = pd.read_csv(url_cgsse, encoding = \"latin-1\", sep = \";\",\n",
    "                      low_memory = False )\n",
    "\n",
    "#Ocupado (3)\n",
    "df_ocupados = pd.read_csv(url_ocupados, encoding = \"latin-1\", sep = \";\",\n",
    "                          low_memory = False)\n",
    "\n",
    "#Fuerza de trabajo (2)                                                                                 \n",
    "df_ft = pd.read_csv(url_ft, encoding = \"latin-1\", sep = \";\",\n",
    "                    low_memory = False)\n",
    "\n",
    "#No ocupados (3)\n",
    "df_desocupados = pd.read_csv(url_desocupados, encoding = \"latin-1\", sep = \";\",\n",
    "                             low_memory = False )\n"
   ]
  },
  {
   "cell_type": "markdown",
   "id": "4c6169e7",
   "metadata": {},
   "source": [
    "# Población total (1.1)"
   ]
  },
  {
   "cell_type": "code",
   "execution_count": 60,
   "id": "33e77282",
   "metadata": {},
   "outputs": [
    {
     "name": "stdout",
     "output_type": "stream",
     "text": [
      "Población total: 52045001\n"
     ]
    }
   ],
   "source": [
    "PT = int(df_cgsse[\"FEX_C18\"].sum())\n",
    "print(f\"Población total: {PT}\")"
   ]
  },
  {
   "cell_type": "markdown",
   "id": "01b485a5",
   "metadata": {},
   "source": [
    "# Población en edad de trabajar (1.2)"
   ]
  },
  {
   "cell_type": "code",
   "execution_count": 61,
   "id": "59505947",
   "metadata": {},
   "outputs": [
    {
     "name": "stdout",
     "output_type": "stream",
     "text": [
      "Poblacion en edad de trabajar: 40653416\n"
     ]
    }
   ],
   "source": [
    "PET = int(df_cgsse[df_cgsse[\"P6040\"]>=15][\"FEX_C18\"].sum())\n",
    "print(f\"Poblacion en edad de trabajar: {PET}\")"
   ]
  },
  {
   "cell_type": "markdown",
   "id": "35c8e811",
   "metadata": {},
   "source": [
    "# Población que no está en edad de trabajar (1.3)"
   ]
  },
  {
   "cell_type": "code",
   "execution_count": 62,
   "id": "c0361018",
   "metadata": {},
   "outputs": [
    {
     "name": "stdout",
     "output_type": "stream",
     "text": [
      "Poblacion que no está en edad de trabajar: 11391585\n"
     ]
    }
   ],
   "source": [
    "PNET = int(df_cgsse[df_cgsse[\"P6040\"]<15][\"FEX_C18\"].sum())\n",
    "print(f\"Poblacion que no está en edad de trabajar: {PNET}\")"
   ]
  },
  {
   "cell_type": "markdown",
   "id": "66404a94",
   "metadata": {},
   "source": [
    "# Calculo de la PEA y la PEI (1.4 y 1.5)"
   ]
  },
  {
   "cell_type": "code",
   "execution_count": 63,
   "id": "473e681e",
   "metadata": {},
   "outputs": [
    {
     "name": "stdout",
     "output_type": "stream",
     "text": [
      "Población Economicamente Activa: 25974846\n",
      "Población Economicamente Inactiva: 14678569\n"
     ]
    }
   ],
   "source": [
    "PEA = int(df_ft[df_ft[\"FT\"]==1][\"FEX_C18\"].sum())\n",
    "print(f\"Población Economicamente Activa: {PEA}\")\n",
    "\n",
    "PEI = int(df_ft[df_ft[\"FFT\"]==1][\"FEX_C18\"].sum())\n",
    "print(f\"Población Economicamente Inactiva: {PEI}\")"
   ]
  },
  {
   "cell_type": "markdown",
   "id": "a1afe94d",
   "metadata": {},
   "source": [
    "# Tasa de ocupación (1.6)"
   ]
  },
  {
   "cell_type": "code",
   "execution_count": 64,
   "id": "eaa92022",
   "metadata": {},
   "outputs": [
    {
     "name": "stdout",
     "output_type": "stream",
     "text": [
      "Poblacion ocupada: 23752952\n",
      "Población en edad de trabajar: 40653416\n",
      "Tasa de ocupación: 58.43%\n"
     ]
    }
   ],
   "source": [
    "O = int(df_ocupados[\"FEX_C18\"].sum())\n",
    "print(f\"Poblacion ocupada: {O}\")\n",
    "\n",
    "PET = int(df_ft[\"FEX_C18\"].sum()) \n",
    "print(f\"Población en edad de trabajar: {PET}\")\n",
    "\n",
    "TO = (O/PET)\n",
    "print(f\"Tasa de ocupación: {TO:.2%}\")"
   ]
  },
  {
   "cell_type": "markdown",
   "id": "ae0770e0",
   "metadata": {},
   "source": [
    "# Tasa de desempleo (1.7)"
   ]
  },
  {
   "cell_type": "code",
   "execution_count": 65,
   "id": "e69d822e",
   "metadata": {},
   "outputs": [
    {
     "name": "stdout",
     "output_type": "stream",
     "text": [
      "Población no ocupada: 2221893.563312005\n",
      "Tasa de desempleo: 8.55%\n"
     ]
    }
   ],
   "source": [
    "NO = df_desocupados[df_desocupados[\"DSI\"]==1][\"FEX_C18\"].sum()\n",
    "print(f\"Población no ocupada: {NO}\")\n",
    "\n",
    "TD = (NO/PEA)\n",
    "print(f\"Tasa de desempleo: {TD:.2%}\")"
   ]
  },
  {
   "cell_type": "markdown",
   "id": "a3c50f70",
   "metadata": {},
   "source": [
    "# Calcular tasa de desempelo en hombres y mujeres del Quindío\n",
    "\n",
    "# Tasas para el Quindío"
   ]
  },
  {
   "cell_type": "code",
   "execution_count": 66,
   "id": "95283713",
   "metadata": {},
   "outputs": [],
   "source": [
    "# Primero, anexar la p3271 a la tabla de desempleados\n",
    "df_desocupados = pd.merge(df_desocupados, df_cgsse[[\"DIRECTORIO\",\"SECUENCIA_P\",\"ORDEN\",\"P3271\"]],on=[\"DIRECTORIO\", \"SECUENCIA_P\", \"ORDEN\"],how=\"left\")\n",
    "df_ft = pd.merge(df_ft, df_cgsse[[\"DIRECTORIO\",\"SECUENCIA_P\",\"ORDEN\",\"P3271\"]],on=[\"DIRECTORIO\", \"SECUENCIA_P\", \"ORDEN\"],how=\"left\")"
   ]
  },
  {
   "cell_type": "markdown",
   "id": "ef41a62a",
   "metadata": {},
   "source": [
    "# HOMBRES"
   ]
  },
  {
   "cell_type": "code",
   "execution_count": 67,
   "id": "4a0b61c9",
   "metadata": {},
   "outputs": [
    {
     "name": "stdout",
     "output_type": "stream",
     "text": [
      "Hombres Desemepleados en el Quindío: 17869.520960767004\n",
      "Población Economicamente Activda de hombres en el Quindío : 174625.87195169798\n",
      "Tasa de Desempleo de hombres en el Quindío : 10.233031773040919\n"
     ]
    }
   ],
   "source": [
    "HDQ = df_desocupados[(df_desocupados[\"DSI\"]==1) & (df_desocupados[\"DPTO\"]==63) & (df_desocupados[\"P3271\"]==1)][\"FEX_C18\"].sum()\n",
    "print(f\"Hombres Desemepleados en el Quindío: {HDQ}\")\n",
    "\n",
    "PEAHQ = df_ft[(df_ft[\"FT\"]==1) & (df_ft[\"DPTO\"]==63) & (df_ft[\"P3271\"]==1)][\"FEX_C18\"].sum()\n",
    "print(f\"Población Economicamente Activda de hombres en el Quindío : {PEAHQ}\")\n",
    "\n",
    "TDHQ = HDQ/PEAHQ\n",
    "print(f\"Tasa de Desempleo de hombres en el Quindío : {TDHQ*100}\")"
   ]
  },
  {
   "cell_type": "markdown",
   "id": "0cf29b6d",
   "metadata": {},
   "source": [
    "# MUJERES"
   ]
  },
  {
   "cell_type": "code",
   "execution_count": 69,
   "id": "278eed24",
   "metadata": {},
   "outputs": [
    {
     "name": "stdout",
     "output_type": "stream",
     "text": [
      "Mujeres Desemepleados en el Quindío: 10618.534945967001\n",
      "Población Economicamente Activda de mujeres en el Quindío : 116885.879263648\n",
      "Tasa de Desempleo de mujeres en el Quindío : 9.084531863781265\n"
     ]
    }
   ],
   "source": [
    "MDQ = df_desocupados[(df_desocupados[\"DSI\"]==1) & (df_desocupados[\"DPTO\"]==63) & (df_desocupados[\"P3271\"]==2)][\"FEX_C18\"].sum()\n",
    "print(f\"Mujeres Desemepleados en el Quindío: {MDQ}\")\n",
    "\n",
    "PEAMQ = df_ft[(df_ft[\"FT\"]==1) & (df_ft[\"DPTO\"]==63) & (df_ft[\"P3271\"]==2)][\"FEX_C18\"].sum()\n",
    "print(f\"Población Economicamente Activda de mujeres en el Quindío : {PEAMQ}\")\n",
    "\n",
    "TDMQ = MDQ/PEAMQ\n",
    "print(f\"Tasa de Desempleo de mujeres en el Quindío : {TDMQ*100}\")"
   ]
  },
  {
   "cell_type": "markdown",
   "id": "7195d048",
   "metadata": {},
   "source": [
    "# Tasas para Risaralda"
   ]
  },
  {
   "cell_type": "markdown",
   "id": "e64192dc",
   "metadata": {},
   "source": [
    "# HOMBRES"
   ]
  },
  {
   "cell_type": "code",
   "execution_count": 72,
   "id": "37b144c7",
   "metadata": {},
   "outputs": [
    {
     "name": "stdout",
     "output_type": "stream",
     "text": [
      "Hombres Desemepleados en el Risaralda: 18000.60370715\n",
      "Población Economicamente Activda de hombres en Risaralda : 296342.328368219\n",
      "Tasa de Desempleo de hombres en el Risaralda : 6.074260064793518\n"
     ]
    }
   ],
   "source": [
    "HDR = df_desocupados[(df_desocupados[\"DSI\"]==1) & (df_desocupados[\"DPTO\"]==66) & (df_desocupados[\"P3271\"]==1)][\"FEX_C18\"].sum()\n",
    "print(f\"Hombres Desemepleados en el Risaralda: {HDR}\")\n",
    "\n",
    "PEAHR = df_ft[(df_ft[\"FT\"]==1) & (df_ft[\"DPTO\"]==66) & (df_ft[\"P3271\"]==1)][\"FEX_C18\"].sum()\n",
    "print(f\"Población Economicamente Activda de hombres en Risaralda : {PEAHR}\")\n",
    "\n",
    "TDHR = HDR/PEAHR\n",
    "print(f\"Tasa de Desempleo de hombres en el Risaralda : {TDHR*100}\")"
   ]
  },
  {
   "cell_type": "markdown",
   "id": "da9a15ff",
   "metadata": {},
   "source": [
    "# MUJERES"
   ]
  },
  {
   "cell_type": "code",
   "execution_count": 74,
   "id": "edc1225e",
   "metadata": {},
   "outputs": [
    {
     "name": "stdout",
     "output_type": "stream",
     "text": [
      "Mujeres Desemepleados en Risaralda: 21676.799766712\n",
      "Población Economicamente Activda de mujeres en Risaralda : 203157.903399127\n",
      "Tasa de Desempleo de mujeres en Risaralda : 10.669926891362644\n"
     ]
    }
   ],
   "source": [
    "MDR = df_desocupados[(df_desocupados[\"DSI\"]==1) & (df_desocupados[\"DPTO\"]==66) & (df_desocupados[\"P3271\"]==2)][\"FEX_C18\"].sum()\n",
    "print(f\"Mujeres Desemepleados en Risaralda: {MDR}\")\n",
    "\n",
    "PEAMR = df_ft[(df_ft[\"FT\"]==1) & (df_ft[\"DPTO\"]==66) & (df_ft[\"P3271\"]==2)][\"FEX_C18\"].sum()\n",
    "print(f\"Población Economicamente Activda de mujeres en Risaralda : {PEAMR}\")\n",
    "\n",
    "TDMR = MDR/PEAMR\n",
    "print(f\"Tasa de Desempleo de mujeres en Risaralda : {TDMR*100}\")"
   ]
  },
  {
   "cell_type": "markdown",
   "id": "e967305f",
   "metadata": {},
   "source": [
    "# Tasas para Caldas"
   ]
  },
  {
   "cell_type": "markdown",
   "id": "7b4e5062",
   "metadata": {},
   "source": [
    "# HOMBRES"
   ]
  },
  {
   "cell_type": "code",
   "execution_count": 75,
   "id": "9c85ccc3",
   "metadata": {},
   "outputs": [
    {
     "name": "stdout",
     "output_type": "stream",
     "text": [
      "Hombres Desemepleados en el Risaralda: 18226.160047418998\n",
      "Población Economicamente Activda de hombres en Risaralda : 326447.467769983\n",
      "Tasa de Desempleo de hombres en el Risaralda : 5.5831831601957065\n"
     ]
    }
   ],
   "source": [
    "HDC = df_desocupados[(df_desocupados[\"DSI\"]==1) & (df_desocupados[\"DPTO\"]==17) & (df_desocupados[\"P3271\"]==1)][\"FEX_C18\"].sum()\n",
    "print(f\"Hombres Desemepleados en el Risaralda: {HDC}\")\n",
    "\n",
    "PEAHC = df_ft[(df_ft[\"FT\"]==1) & (df_ft[\"DPTO\"]==17) & (df_ft[\"P3271\"]==1)][\"FEX_C18\"].sum()\n",
    "print(f\"Población Economicamente Activda de hombres en Risaralda : {PEAHC}\")\n",
    "\n",
    "TDHC = HDC/PEAHC\n",
    "print(f\"Tasa de Desempleo de hombres en el Risaralda : {TDHC*100}\")"
   ]
  },
  {
   "cell_type": "markdown",
   "id": "5dadd9b8",
   "metadata": {},
   "source": [
    "# MUJERES"
   ]
  },
  {
   "cell_type": "code",
   "execution_count": 77,
   "id": "8990ee0d",
   "metadata": {},
   "outputs": [
    {
     "name": "stdout",
     "output_type": "stream",
     "text": [
      "Mujeres Desemepleados en Caldas: 17214.491449226003\n",
      "Población Economicamente Activda de mujeres en Caldas : 224206.533775\n",
      "Tasa de Desempleo de mujeres en Caldas : 7.677961547053494\n"
     ]
    }
   ],
   "source": [
    "MDC = df_desocupados[(df_desocupados[\"DSI\"]==1) & (df_desocupados[\"DPTO\"]==17) & (df_desocupados[\"P3271\"]==2)][\"FEX_C18\"].sum()\n",
    "print(f\"Mujeres Desemepleados en Caldas: {MDC}\")\n",
    "\n",
    "PEAMC = df_ft[(df_ft[\"FT\"]==1) & (df_ft[\"DPTO\"]==17) & (df_ft[\"P3271\"]==2)][\"FEX_C18\"].sum()\n",
    "print(f\"Población Economicamente Activda de mujeres en Caldas : {PEAMC}\")\n",
    "\n",
    "TDMC = MDC/PEAMC\n",
    "print(f\"Tasa de Desempleo de mujeres en Caldas : {TDMC*100}\")"
   ]
  },
  {
   "cell_type": "markdown",
   "id": "adf74ecb",
   "metadata": {},
   "source": []
  }
 ],
 "metadata": {
  "kernelspec": {
   "display_name": "Python 3",
   "language": "python",
   "name": "python3"
  },
  "language_info": {
   "codemirror_mode": {
    "name": "ipython",
    "version": 3
   },
   "file_extension": ".py",
   "mimetype": "text/x-python",
   "name": "python",
   "nbconvert_exporter": "python",
   "pygments_lexer": "ipython3",
   "version": "3.12.1"
  }
 },
 "nbformat": 4,
 "nbformat_minor": 5
}
