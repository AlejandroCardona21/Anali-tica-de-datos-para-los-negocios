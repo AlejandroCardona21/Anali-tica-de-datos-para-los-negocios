{
 "cells": [
  {
   "cell_type": "code",
   "execution_count": 1,
   "id": "016c8006",
   "metadata": {},
   "outputs": [],
   "source": [
    "import pandas as pd\n",
    "import numpy as np\n",
    "\n",
    "Emicron = pd.read_csv(\"https://raw.githubusercontent.com/niconomist98/DataAnalyticsUQ/refs/heads/main/Datos/EMICRON/emicron_identificacion.csv\", sep=\",\")"
   ]
  },
  {
   "cell_type": "markdown",
   "id": "39f9633f",
   "metadata": {},
   "source": [
    "# Primera pregunta"
   ]
  },
  {
   "cell_type": "code",
   "execution_count": 7,
   "id": "4d592857",
   "metadata": {},
   "outputs": [
    {
     "name": "stdout",
     "output_type": "stream",
     "text": [
      "Micronegocios existentes en el Quindiío cuyos propietarios son hombres entre los 18 y 30 años : 1929\n"
     ]
    }
   ],
   "source": [
    "HQM = int(Emicron[(Emicron[\"COD_DEPTO\"] == 63) & (Emicron[\"P35\"] == 1) & (Emicron[\"P241\"].between(18, 30))][\"F_EXP\"].sum())\n",
    "print(f\"Micronegocios existentes en el Quindiío cuyos propietarios son hombres entre los 18 y 30 años : {HQM}\")\n"
   ]
  },
  {
   "cell_type": "markdown",
   "id": "7c3490e9",
   "metadata": {},
   "source": [
    "# Segunda pregunta"
   ]
  },
  {
   "cell_type": "code",
   "execution_count": 8,
   "id": "c9dcc6ee",
   "metadata": {},
   "outputs": [
    {
     "name": "stdout",
     "output_type": "stream",
     "text": [
      "Micronegocios existentes de la industria manufactureras en Risaralda cuyas propietarias son mujeres entre los 20 y 30 años : 471 \n"
     ]
    }
   ],
   "source": [
    "MMRM = int(Emicron[(Emicron[\"COD_DEPTO\"] == 66) & (Emicron[\"P35\"] == 2) & (Emicron[\"P241\"].between(20, 30)) & (Emicron[\"GRUPOS12\"] == 3)][\"F_EXP\"].sum())\n",
    "print(f\"Micronegocios existentes de la industria manufactureras en Risaralda cuyas propietarias son mujeres entre los 20 y 30 años : {MMRM} \")"
   ]
  },
  {
   "cell_type": "markdown",
   "id": "fcfd35bf",
   "metadata": {},
   "source": [
    "# Tercera pregunta "
   ]
  },
  {
   "cell_type": "code",
   "execution_count": null,
   "id": "10701be1",
   "metadata": {},
   "outputs": [],
   "source": [
    "Manizales = int(Emicron[(Emicron[\"AREA\"] == 17) & (Emicron[\"GRUPOS12\"] == 5) & (Emicron[\"P35\"] == 2) & (Emicron[\"P241\"].between(40, 90))][\"F_EXP\"].sum())\n",
    "print(f\"Micronegocios \")"
   ]
  }
 ],
 "metadata": {
  "kernelspec": {
   "display_name": "Python 3",
   "language": "python",
   "name": "python3"
  },
  "language_info": {
   "codemirror_mode": {
    "name": "ipython",
    "version": 3
   },
   "file_extension": ".py",
   "mimetype": "text/x-python",
   "name": "python",
   "nbconvert_exporter": "python",
   "pygments_lexer": "ipython3",
   "version": "3.12.1"
  }
 },
 "nbformat": 4,
 "nbformat_minor": 5
}
