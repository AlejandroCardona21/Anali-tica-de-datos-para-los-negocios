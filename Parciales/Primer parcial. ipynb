import pandas as pd 
import numpy as np

emicron = pd.read_csv("https://raw.githubusercontent.com/niconomist98/DataAnalyticsUQ/refs/heads/main/Datos/EMICRON/emicron_identificacion.csv", sep="",")